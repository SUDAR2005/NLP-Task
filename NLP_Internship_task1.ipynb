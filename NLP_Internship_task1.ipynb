{
  "cells": [
    {
      "cell_type": "markdown",
      "metadata": {
        "id": "view-in-github",
        "colab_type": "text"
      },
      "source": [
        "<a href=\"https://colab.research.google.com/github/SUDAR2005/NLP-Task/blob/main/NLP_Internship_task1.ipynb\" target=\"_parent\"><img src=\"https://colab.research.google.com/assets/colab-badge.svg\" alt=\"Open In Colab\"/></a>"
      ]
    },
    {
      "cell_type": "markdown",
      "metadata": {
        "id": "0UCqHdjyWCOF"
      },
      "source": [
        "Naming and viewing Data"
      ]
    },
    {
      "cell_type": "code",
      "execution_count": null,
      "metadata": {
        "colab": {
          "base_uri": "https://localhost:8080/",
          "height": 310
        },
        "id": "Iypww98pxH1o",
        "outputId": "66df3d75-e59c-4bc1-d148-3b683d06143b"
      },
      "outputs": [
        {
          "output_type": "stream",
          "name": "stderr",
          "text": [
            "[nltk_data] Downloading package stopwords to /root/nltk_data...\n",
            "[nltk_data]   Package stopwords is already up-to-date!\n",
            "[nltk_data] Downloading package punkt to /root/nltk_data...\n",
            "[nltk_data]   Package punkt is already up-to-date!\n",
            "[nltk_data] Downloading package wordnet to /root/nltk_data...\n",
            "[nltk_data]   Package wordnet is already up-to-date!\n"
          ]
        },
        {
          "output_type": "execute_result",
          "data": {
            "text/plain": [
              "   emotion                                               text\n",
              "0     fear  Every time I imagine that someone I love or I ...\n",
              "1    anger  When I had been obviously unjustly treated and...\n",
              "2  sadness  When I think about the short time that we live...\n",
              "3  disgust  At a gathering I found myself involuntarily si...\n",
              "4    shame  When I realized that I was directing the feeli..."
            ],
            "text/html": [
              "\n",
              "  <div id=\"df-66820a1d-7464-4197-8e86-8b569cd81c2e\" class=\"colab-df-container\">\n",
              "    <div>\n",
              "<style scoped>\n",
              "    .dataframe tbody tr th:only-of-type {\n",
              "        vertical-align: middle;\n",
              "    }\n",
              "\n",
              "    .dataframe tbody tr th {\n",
              "        vertical-align: top;\n",
              "    }\n",
              "\n",
              "    .dataframe thead th {\n",
              "        text-align: right;\n",
              "    }\n",
              "</style>\n",
              "<table border=\"1\" class=\"dataframe\">\n",
              "  <thead>\n",
              "    <tr style=\"text-align: right;\">\n",
              "      <th></th>\n",
              "      <th>emotion</th>\n",
              "      <th>text</th>\n",
              "    </tr>\n",
              "  </thead>\n",
              "  <tbody>\n",
              "    <tr>\n",
              "      <th>0</th>\n",
              "      <td>fear</td>\n",
              "      <td>Every time I imagine that someone I love or I ...</td>\n",
              "    </tr>\n",
              "    <tr>\n",
              "      <th>1</th>\n",
              "      <td>anger</td>\n",
              "      <td>When I had been obviously unjustly treated and...</td>\n",
              "    </tr>\n",
              "    <tr>\n",
              "      <th>2</th>\n",
              "      <td>sadness</td>\n",
              "      <td>When I think about the short time that we live...</td>\n",
              "    </tr>\n",
              "    <tr>\n",
              "      <th>3</th>\n",
              "      <td>disgust</td>\n",
              "      <td>At a gathering I found myself involuntarily si...</td>\n",
              "    </tr>\n",
              "    <tr>\n",
              "      <th>4</th>\n",
              "      <td>shame</td>\n",
              "      <td>When I realized that I was directing the feeli...</td>\n",
              "    </tr>\n",
              "  </tbody>\n",
              "</table>\n",
              "</div>\n",
              "    <div class=\"colab-df-buttons\">\n",
              "\n",
              "  <div class=\"colab-df-container\">\n",
              "    <button class=\"colab-df-convert\" onclick=\"convertToInteractive('df-66820a1d-7464-4197-8e86-8b569cd81c2e')\"\n",
              "            title=\"Convert this dataframe to an interactive table.\"\n",
              "            style=\"display:none;\">\n",
              "\n",
              "  <svg xmlns=\"http://www.w3.org/2000/svg\" height=\"24px\" viewBox=\"0 -960 960 960\">\n",
              "    <path d=\"M120-120v-720h720v720H120Zm60-500h600v-160H180v160Zm220 220h160v-160H400v160Zm0 220h160v-160H400v160ZM180-400h160v-160H180v160Zm440 0h160v-160H620v160ZM180-180h160v-160H180v160Zm440 0h160v-160H620v160Z\"/>\n",
              "  </svg>\n",
              "    </button>\n",
              "\n",
              "  <style>\n",
              "    .colab-df-container {\n",
              "      display:flex;\n",
              "      gap: 12px;\n",
              "    }\n",
              "\n",
              "    .colab-df-convert {\n",
              "      background-color: #E8F0FE;\n",
              "      border: none;\n",
              "      border-radius: 50%;\n",
              "      cursor: pointer;\n",
              "      display: none;\n",
              "      fill: #1967D2;\n",
              "      height: 32px;\n",
              "      padding: 0 0 0 0;\n",
              "      width: 32px;\n",
              "    }\n",
              "\n",
              "    .colab-df-convert:hover {\n",
              "      background-color: #E2EBFA;\n",
              "      box-shadow: 0px 1px 2px rgba(60, 64, 67, 0.3), 0px 1px 3px 1px rgba(60, 64, 67, 0.15);\n",
              "      fill: #174EA6;\n",
              "    }\n",
              "\n",
              "    .colab-df-buttons div {\n",
              "      margin-bottom: 4px;\n",
              "    }\n",
              "\n",
              "    [theme=dark] .colab-df-convert {\n",
              "      background-color: #3B4455;\n",
              "      fill: #D2E3FC;\n",
              "    }\n",
              "\n",
              "    [theme=dark] .colab-df-convert:hover {\n",
              "      background-color: #434B5C;\n",
              "      box-shadow: 0px 1px 3px 1px rgba(0, 0, 0, 0.15);\n",
              "      filter: drop-shadow(0px 1px 2px rgba(0, 0, 0, 0.3));\n",
              "      fill: #FFFFFF;\n",
              "    }\n",
              "  </style>\n",
              "\n",
              "    <script>\n",
              "      const buttonEl =\n",
              "        document.querySelector('#df-66820a1d-7464-4197-8e86-8b569cd81c2e button.colab-df-convert');\n",
              "      buttonEl.style.display =\n",
              "        google.colab.kernel.accessAllowed ? 'block' : 'none';\n",
              "\n",
              "      async function convertToInteractive(key) {\n",
              "        const element = document.querySelector('#df-66820a1d-7464-4197-8e86-8b569cd81c2e');\n",
              "        const dataTable =\n",
              "          await google.colab.kernel.invokeFunction('convertToInteractive',\n",
              "                                                    [key], {});\n",
              "        if (!dataTable) return;\n",
              "\n",
              "        const docLinkHtml = 'Like what you see? Visit the ' +\n",
              "          '<a target=\"_blank\" href=https://colab.research.google.com/notebooks/data_table.ipynb>data table notebook</a>'\n",
              "          + ' to learn more about interactive tables.';\n",
              "        element.innerHTML = '';\n",
              "        dataTable['output_type'] = 'display_data';\n",
              "        await google.colab.output.renderOutput(dataTable, element);\n",
              "        const docLink = document.createElement('div');\n",
              "        docLink.innerHTML = docLinkHtml;\n",
              "        element.appendChild(docLink);\n",
              "      }\n",
              "    </script>\n",
              "  </div>\n",
              "\n",
              "\n",
              "<div id=\"df-a6be8f07-66da-4e4c-ac05-5fa8b7432d6b\">\n",
              "  <button class=\"colab-df-quickchart\" onclick=\"quickchart('df-a6be8f07-66da-4e4c-ac05-5fa8b7432d6b')\"\n",
              "            title=\"Suggest charts\"\n",
              "            style=\"display:none;\">\n",
              "\n",
              "<svg xmlns=\"http://www.w3.org/2000/svg\" height=\"24px\"viewBox=\"0 0 24 24\"\n",
              "     width=\"24px\">\n",
              "    <g>\n",
              "        <path d=\"M19 3H5c-1.1 0-2 .9-2 2v14c0 1.1.9 2 2 2h14c1.1 0 2-.9 2-2V5c0-1.1-.9-2-2-2zM9 17H7v-7h2v7zm4 0h-2V7h2v10zm4 0h-2v-4h2v4z\"/>\n",
              "    </g>\n",
              "</svg>\n",
              "  </button>\n",
              "\n",
              "<style>\n",
              "  .colab-df-quickchart {\n",
              "      --bg-color: #E8F0FE;\n",
              "      --fill-color: #1967D2;\n",
              "      --hover-bg-color: #E2EBFA;\n",
              "      --hover-fill-color: #174EA6;\n",
              "      --disabled-fill-color: #AAA;\n",
              "      --disabled-bg-color: #DDD;\n",
              "  }\n",
              "\n",
              "  [theme=dark] .colab-df-quickchart {\n",
              "      --bg-color: #3B4455;\n",
              "      --fill-color: #D2E3FC;\n",
              "      --hover-bg-color: #434B5C;\n",
              "      --hover-fill-color: #FFFFFF;\n",
              "      --disabled-bg-color: #3B4455;\n",
              "      --disabled-fill-color: #666;\n",
              "  }\n",
              "\n",
              "  .colab-df-quickchart {\n",
              "    background-color: var(--bg-color);\n",
              "    border: none;\n",
              "    border-radius: 50%;\n",
              "    cursor: pointer;\n",
              "    display: none;\n",
              "    fill: var(--fill-color);\n",
              "    height: 32px;\n",
              "    padding: 0;\n",
              "    width: 32px;\n",
              "  }\n",
              "\n",
              "  .colab-df-quickchart:hover {\n",
              "    background-color: var(--hover-bg-color);\n",
              "    box-shadow: 0 1px 2px rgba(60, 64, 67, 0.3), 0 1px 3px 1px rgba(60, 64, 67, 0.15);\n",
              "    fill: var(--button-hover-fill-color);\n",
              "  }\n",
              "\n",
              "  .colab-df-quickchart-complete:disabled,\n",
              "  .colab-df-quickchart-complete:disabled:hover {\n",
              "    background-color: var(--disabled-bg-color);\n",
              "    fill: var(--disabled-fill-color);\n",
              "    box-shadow: none;\n",
              "  }\n",
              "\n",
              "  .colab-df-spinner {\n",
              "    border: 2px solid var(--fill-color);\n",
              "    border-color: transparent;\n",
              "    border-bottom-color: var(--fill-color);\n",
              "    animation:\n",
              "      spin 1s steps(1) infinite;\n",
              "  }\n",
              "\n",
              "  @keyframes spin {\n",
              "    0% {\n",
              "      border-color: transparent;\n",
              "      border-bottom-color: var(--fill-color);\n",
              "      border-left-color: var(--fill-color);\n",
              "    }\n",
              "    20% {\n",
              "      border-color: transparent;\n",
              "      border-left-color: var(--fill-color);\n",
              "      border-top-color: var(--fill-color);\n",
              "    }\n",
              "    30% {\n",
              "      border-color: transparent;\n",
              "      border-left-color: var(--fill-color);\n",
              "      border-top-color: var(--fill-color);\n",
              "      border-right-color: var(--fill-color);\n",
              "    }\n",
              "    40% {\n",
              "      border-color: transparent;\n",
              "      border-right-color: var(--fill-color);\n",
              "      border-top-color: var(--fill-color);\n",
              "    }\n",
              "    60% {\n",
              "      border-color: transparent;\n",
              "      border-right-color: var(--fill-color);\n",
              "    }\n",
              "    80% {\n",
              "      border-color: transparent;\n",
              "      border-right-color: var(--fill-color);\n",
              "      border-bottom-color: var(--fill-color);\n",
              "    }\n",
              "    90% {\n",
              "      border-color: transparent;\n",
              "      border-bottom-color: var(--fill-color);\n",
              "    }\n",
              "  }\n",
              "</style>\n",
              "\n",
              "  <script>\n",
              "    async function quickchart(key) {\n",
              "      const quickchartButtonEl =\n",
              "        document.querySelector('#' + key + ' button');\n",
              "      quickchartButtonEl.disabled = true;  // To prevent multiple clicks.\n",
              "      quickchartButtonEl.classList.add('colab-df-spinner');\n",
              "      try {\n",
              "        const charts = await google.colab.kernel.invokeFunction(\n",
              "            'suggestCharts', [key], {});\n",
              "      } catch (error) {\n",
              "        console.error('Error during call to suggestCharts:', error);\n",
              "      }\n",
              "      quickchartButtonEl.classList.remove('colab-df-spinner');\n",
              "      quickchartButtonEl.classList.add('colab-df-quickchart-complete');\n",
              "    }\n",
              "    (() => {\n",
              "      let quickchartButtonEl =\n",
              "        document.querySelector('#df-a6be8f07-66da-4e4c-ac05-5fa8b7432d6b button');\n",
              "      quickchartButtonEl.style.display =\n",
              "        google.colab.kernel.accessAllowed ? 'block' : 'none';\n",
              "    })();\n",
              "  </script>\n",
              "</div>\n",
              "\n",
              "    </div>\n",
              "  </div>\n"
            ],
            "application/vnd.google.colaboratory.intrinsic+json": {
              "type": "dataframe",
              "variable_name": "data",
              "summary": "{\n  \"name\": \"data\",\n  \"rows\": 7515,\n  \"fields\": [\n    {\n      \"column\": \"emotion\",\n      \"properties\": {\n        \"dtype\": \"category\",\n        \"num_unique_values\": 7,\n        \"samples\": [\n          \"fear\",\n          \"anger\",\n          \"guilt\"\n        ],\n        \"semantic_type\": \"\",\n        \"description\": \"\"\n      }\n    },\n    {\n      \"column\": \"text\",\n      \"properties\": {\n        \"dtype\": \"string\",\n        \"num_unique_values\": 7448,\n        \"samples\": [\n          \"A young girl tried to put an end to her life because of lover's  \\ngrief; not until she was in hospital I heard that I had been the  \\nreason for her action.\",\n          \"When I heard a rumour that the 1st year exam results were out. I  \\nhad fear that I might be one of the failures.\",\n          \"When I left all my friends at school (break up) knowing we would  \\nprobably all go our separate ways, and none see one another for a  \\nlong time.\"\n        ],\n        \"semantic_type\": \"\",\n        \"description\": \"\"\n      }\n    }\n  ]\n}"
            }
          },
          "metadata": {},
          "execution_count": 51
        }
      ],
      "source": [
        "#Importing the necessary library\n",
        "import pandas as pd\n",
        "from nltk.corpus import stopwords\n",
        "import nltk\n",
        "import re\n",
        "from nltk.stem import SnowballStemmer\n",
        "nltk.download('stopwords')\n",
        "nltk.download('punkt')\n",
        "nltk.download('wordnet')\n",
        "from textblob import TextBlob\n",
        "from sklearn.preprocessing import LabelEncoder\n",
        "from sklearn.model_selection import train_test_split\n",
        "from sklearn.feature_extraction.text import TfidfVectorizer\n",
        "from sklearn.feature_extraction.text import CountVectorizer\n",
        "from sklearn.metrics import accuracy_score,precision_score,recall_score,f1_score,classification_report,confusion_matrix\n",
        "from sklearn.naive_bayes import MultinomialNB\n",
        "import matplotlib.pyplot as plt\n",
        "#Reading the file and storing the cotent\n",
        "data=pd.read_csv('path-to-csv/ISEAR_dataset.csv')\n",
        "data.columns=['emotion','text','drop']\n",
        "data=data.drop(['drop'],axis=1)\n",
        "data.head()"
      ]
    },
    {
      "cell_type": "markdown",
      "metadata": {
        "id": "kO2mE7rhWG3_"
      },
      "source": [
        "Data  Cleaning"
      ]
    },
    {
      "cell_type": "code",
      "source": [
        "data['text']=data['text'].apply(lambda x: \" \".join(x.lower() for x in x.split()))\n",
        "stop=stopwords.words('english')\n",
        "data['text']=data['text'].apply(lambda x: \" \".join(x for x in x.split() if x not in stop))\n",
        "print(data['text'].head())\n"
      ],
      "metadata": {
        "colab": {
          "base_uri": "https://localhost:8080/"
        },
        "id": "qlTMnL-SsF1p",
        "outputId": "c7abe1e5-f584-4ddd-b6b5-53122744fb41"
      },
      "execution_count": null,
      "outputs": [
        {
          "output_type": "stream",
          "name": "stdout",
          "text": [
            "0    everi time imagin someon love could contact se...\n",
            "1            obvious unjust treat possibl elucid this.\n",
            "2    think short time live relat period life think ...\n",
            "3    gather found involuntarili sit next two peopl ...\n",
            "4    realiz direct feel discont partner way tri put...\n",
            "Name: text, dtype: object\n"
          ]
        }
      ]
    },
    {
      "cell_type": "code",
      "source": [
        "#Stemming and obtaining the root word\n",
        "ps=SnowballStemmer(language='english')\n",
        "data['text']=data['text'].apply(lambda x: \" \".join([ps.stem(word) for word in x.split()]))\n",
        "data['text'].head()"
      ],
      "metadata": {
        "colab": {
          "base_uri": "https://localhost:8080/"
        },
        "id": "P-i18K0RnP-1",
        "outputId": "3f1f8291-b87f-4f43-9aae-2d9efd413958"
      },
      "execution_count": null,
      "outputs": [
        {
          "output_type": "execute_result",
          "data": {
            "text/plain": [
              "0    everi time imagin someon love could contact se...\n",
              "1            obvious unjust treat possibl elucid this.\n",
              "2    think short time live relat period life think ...\n",
              "3    gather found involuntarili sit next two peopl ...\n",
              "4    realiz direct feel discont partner way tri put...\n",
              "Name: text, dtype: object"
            ]
          },
          "metadata": {},
          "execution_count": 63
        }
      ]
    },
    {
      "cell_type": "markdown",
      "source": [
        "Labling data / Data Preprocessing"
      ],
      "metadata": {
        "id": "0JgvSo_Rs2Yc"
      }
    },
    {
      "cell_type": "code",
      "source": [
        "data['emotion'].value_counts()"
      ],
      "metadata": {
        "colab": {
          "base_uri": "https://localhost:8080/"
        },
        "id": "RKuJW-QKskNh",
        "outputId": "2a0e2cda-76a9-409e-8ed4-2663c8e236ab"
      },
      "execution_count": null,
      "outputs": [
        {
          "output_type": "execute_result",
          "data": {
            "text/plain": [
              "emotion\n",
              "4    1091\n",
              "5    1082\n",
              "0    1079\n",
              "2    1076\n",
              "6    1071\n",
              "1    1066\n",
              "3    1050\n",
              "Name: count, dtype: int64"
            ]
          },
          "metadata": {},
          "execution_count": 64
        }
      ]
    },
    {
      "cell_type": "code",
      "source": [
        "#label Encoding\n",
        "encoder=LabelEncoder()\n",
        "data['emotion']=encoder.fit_transform(data['emotion'])\n",
        "data['emotion'].value_counts()"
      ],
      "metadata": {
        "colab": {
          "base_uri": "https://localhost:8080/"
        },
        "id": "-2UmSAPMtROE",
        "outputId": "d0a9229c-8679-4621-8182-54b0a95f6f8d"
      },
      "execution_count": null,
      "outputs": [
        {
          "output_type": "execute_result",
          "data": {
            "text/plain": [
              "emotion\n",
              "4    1091\n",
              "5    1082\n",
              "0    1079\n",
              "2    1076\n",
              "6    1071\n",
              "1    1066\n",
              "3    1050\n",
              "Name: count, dtype: int64"
            ]
          },
          "metadata": {},
          "execution_count": 65
        }
      ]
    },
    {
      "cell_type": "code",
      "source": [
        "label_dict={4:'joy',5:'sadness',0:'anger',2:'fear',6:'shame',1:'disguist',3:'guilt'}"
      ],
      "metadata": {
        "id": "9uMVmijc5ic_"
      },
      "execution_count": null,
      "outputs": []
    },
    {
      "cell_type": "code",
      "source": [
        "X_train,X_test,y_train,y_test=train_test_split(data['text'],data['emotion'],test_size=0.2,random_state=42,stratify=data['emotion'])"
      ],
      "metadata": {
        "id": "jedFFRBguQoI"
      },
      "execution_count": null,
      "outputs": []
    },
    {
      "cell_type": "markdown",
      "source": [
        "Extracting Features using vectorization"
      ],
      "metadata": {
        "id": "OJXLVJ0myvPb"
      }
    },
    {
      "cell_type": "code",
      "source": [
        "cv=CountVectorizer()\n",
        "X_train_cv=cv.fit_transform(X_train)\n",
        "X_test_cv=cv.transform(X_test)\n",
        "print(X_train_cv.shape)\n",
        "print(X_test_cv.shape)\n",
        "rv=TfidfVectorizer()\n",
        "X_train_rv=rv.fit_transform(X_train)\n",
        "X_test_rv=rv.transform(X_test)\n",
        "print(X_train_cv.shape)\n",
        "print(X_test_cv.shape)"
      ],
      "metadata": {
        "colab": {
          "base_uri": "https://localhost:8080/"
        },
        "id": "7W2ErzEEy1bq",
        "outputId": "d114808f-545c-4e69-da18-349ba62500fe"
      },
      "execution_count": null,
      "outputs": [
        {
          "output_type": "stream",
          "name": "stdout",
          "text": [
            "(6012, 7026)\n",
            "(1503, 7026)\n",
            "(6012, 7026)\n",
            "(1503, 7026)\n"
          ]
        }
      ]
    },
    {
      "cell_type": "markdown",
      "source": [
        "Buiding ML Model"
      ],
      "metadata": {
        "id": "5S-OJI3zt999"
      }
    },
    {
      "cell_type": "code",
      "source": [
        "def build(model_selection,independent_variable_train,target,independent_variable_test):\n",
        "    model=model_selection\n",
        "    #adjusting according to the error\n",
        "    model.fit(independent_variable_train,target)\n",
        "    y_pred=model.predict(independent_variable_test)\n",
        "    #Calculating the factors determining model success\n",
        "    accuracy=accuracy_score(y_test,y_pred)\n",
        "    precision=precision_score(y_test,y_pred,average='weighted')\n",
        "    recall=recall_score(y_test,y_pred,average='weighted')\n",
        "    f1=f1_score(y_test,y_pred,average='weighted')\n",
        "    report=classification_report(y_test,y_pred)\n",
        "    print(\"Classification Report:\\n\",report)\n",
        "    cm=confusion_matrix(y_test,y_pred)\n",
        "    print(\"Confusion Matrix:\\n\",cm)\n",
        "    return model"
      ],
      "metadata": {
        "id": "Qg7yFOxG4wve"
      },
      "execution_count": null,
      "outputs": []
    },
    {
      "cell_type": "code",
      "source": [
        "#building naive bayes model\n",
        "naive_bayes_model=MultinomialNB()\n",
        "model1=build(naive_bayes_model,X_train_cv,y_train,X_test_cv)\n",
        "\n",
        "model2=build(naive_bayes_model,X_train_rv,y_train,X_test_rv)"
      ],
      "metadata": {
        "colab": {
          "base_uri": "https://localhost:8080/"
        },
        "id": "Sr8N8Ujw6O2u",
        "outputId": "29880483-cffd-44e5-d50b-043690d5e56a"
      },
      "execution_count": null,
      "outputs": [
        {
          "output_type": "stream",
          "name": "stdout",
          "text": [
            "Classification Report:\n",
            "               precision    recall  f1-score   support\n",
            "\n",
            "           0       0.43      0.43      0.43       216\n",
            "           1       0.69      0.54      0.60       213\n",
            "           2       0.64      0.67      0.65       215\n",
            "           3       0.48      0.55      0.51       210\n",
            "           4       0.61      0.67      0.64       218\n",
            "           5       0.64      0.64      0.64       217\n",
            "           6       0.46      0.42      0.44       214\n",
            "\n",
            "    accuracy                           0.56      1503\n",
            "   macro avg       0.56      0.56      0.56      1503\n",
            "weighted avg       0.56      0.56      0.56      1503\n",
            "\n",
            "Confusion Matrix:\n",
            " [[ 93  14  16  38  16  10  29]\n",
            " [ 22 114  14  19  12   9  23]\n",
            " [ 11   6 143  15  18  12  10]\n",
            " [ 26   5  14 116  14  13  22]\n",
            " [ 18   1  10   7 147  24  11]\n",
            " [ 18   5  11  14  20 138  11]\n",
            " [ 29  20  16  34  15  11  89]]\n",
            "Classification Report:\n",
            "               precision    recall  f1-score   support\n",
            "\n",
            "           0       0.44      0.41      0.42       216\n",
            "           1       0.68      0.54      0.61       213\n",
            "           2       0.66      0.66      0.66       215\n",
            "           3       0.50      0.55      0.52       210\n",
            "           4       0.59      0.72      0.65       218\n",
            "           5       0.62      0.65      0.63       217\n",
            "           6       0.48      0.42      0.45       214\n",
            "\n",
            "    accuracy                           0.56      1503\n",
            "   macro avg       0.56      0.56      0.56      1503\n",
            "weighted avg       0.56      0.56      0.56      1503\n",
            "\n",
            "Confusion Matrix:\n",
            " [[ 88  15  18  34  19  14  28]\n",
            " [ 23 116  11  17  15   8  23]\n",
            " [ 11   8 141  11  18  14  12]\n",
            " [ 25   5  11 116  16  18  19]\n",
            " [ 16   3   7   7 156  21   8]\n",
            " [ 14   5  11  12  25 141   9]\n",
            " [ 25  18  16  37  15  13  90]]\n"
          ]
        }
      ]
    },
    {
      "cell_type": "code",
      "source": [
        "#building support vector machine's Classifier model\n",
        "\n",
        "from sklearn.svm import SVC\n",
        "svm_model=SVC()\n",
        "\n",
        "model3=build(svm_model,X_train_cv,y_train,X_test_cv)\n",
        "\n",
        "model4=build(svm_model,X_train_rv,y_train,X_test_rv)"
      ],
      "metadata": {
        "colab": {
          "base_uri": "https://localhost:8080/"
        },
        "id": "vuXvCMp3uNWM",
        "outputId": "c9d3b8dd-b868-4c34-b93f-9ac54301474e"
      },
      "execution_count": null,
      "outputs": [
        {
          "output_type": "stream",
          "name": "stdout",
          "text": [
            "Classification Report:\n",
            "               precision    recall  f1-score   support\n",
            "\n",
            "           0       0.37      0.50      0.43       216\n",
            "           1       0.61      0.54      0.58       213\n",
            "           2       0.68      0.62      0.65       215\n",
            "           3       0.46      0.44      0.45       210\n",
            "           4       0.57      0.65      0.61       218\n",
            "           5       0.72      0.58      0.64       217\n",
            "           6       0.45      0.43      0.44       214\n",
            "\n",
            "    accuracy                           0.54      1503\n",
            "   macro avg       0.55      0.54      0.54      1503\n",
            "weighted avg       0.55      0.54      0.54      1503\n",
            "\n",
            "Confusion Matrix:\n",
            " [[108  22  12  29  15   7  23]\n",
            " [ 33 115  10  15  15   5  20]\n",
            " [ 19  12 134  10  16   8  16]\n",
            " [ 39   6  12  93  16  16  28]\n",
            " [ 30   8   8   9 141   9  13]\n",
            " [ 21   8  12  14  25 126  11]\n",
            " [ 40  16   8  34  20   5  91]]\n",
            "Classification Report:\n",
            "               precision    recall  f1-score   support\n",
            "\n",
            "           0       0.40      0.52      0.45       216\n",
            "           1       0.68      0.62      0.64       213\n",
            "           2       0.72      0.67      0.70       215\n",
            "           3       0.49      0.50      0.50       210\n",
            "           4       0.62      0.68      0.65       218\n",
            "           5       0.74      0.65      0.69       217\n",
            "           6       0.51      0.42      0.46       214\n",
            "\n",
            "    accuracy                           0.58      1503\n",
            "   macro avg       0.59      0.58      0.58      1503\n",
            "weighted avg       0.59      0.58      0.58      1503\n",
            "\n",
            "Confusion Matrix:\n",
            " [[113  18  12  29  16   7  21]\n",
            " [ 30 131   7  18   8   1  18]\n",
            " [ 21  12 145   7  13   9   8]\n",
            " [ 40   6  10 106  14  15  19]\n",
            " [ 25   6  10   7 149  10  11]\n",
            " [ 21   6   8  13  21 140   8]\n",
            " [ 36  15  10  38  19   7  89]]\n"
          ]
        }
      ]
    },
    {
      "cell_type": "code",
      "source": [
        "#Random forest's classifier model\n",
        "from sklearn.ensemble import RandomForestClassifier\n",
        "rf_model=RandomForestClassifier()\n",
        "\n",
        "model5=build(rf_model,X_train_cv,y_train,X_test_cv)\n",
        "\n",
        "model6=build(rf_model,X_train_rv,y_train,X_test_rv)"
      ],
      "metadata": {
        "colab": {
          "base_uri": "https://localhost:8080/"
        },
        "id": "ykm7Caxovdr0",
        "outputId": "5985a0d3-6267-4386-a790-9433d48d27ae"
      },
      "execution_count": null,
      "outputs": [
        {
          "output_type": "stream",
          "name": "stdout",
          "text": [
            "Classification Report:\n",
            "               precision    recall  f1-score   support\n",
            "\n",
            "           0       0.50      0.38      0.43       216\n",
            "           1       0.60      0.53      0.56       213\n",
            "           2       0.63      0.66      0.64       215\n",
            "           3       0.44      0.42      0.43       210\n",
            "           4       0.53      0.72      0.61       218\n",
            "           5       0.55      0.68      0.60       217\n",
            "           6       0.46      0.35      0.39       214\n",
            "\n",
            "    accuracy                           0.53      1503\n",
            "   macro avg       0.53      0.53      0.52      1503\n",
            "weighted avg       0.53      0.53      0.53      1503\n",
            "\n",
            "Confusion Matrix:\n",
            " [[ 81  21  11  26  26  21  30]\n",
            " [ 20 113  15  16  19  18  12]\n",
            " [  7  16 141  11  19  14   7]\n",
            " [ 20   3  14  89  22  37  25]\n",
            " [  4  13  12  11 156  14   8]\n",
            " [  7   7  12  10  28 147   6]\n",
            " [ 23  16  18  40  25  18  74]]\n",
            "Classification Report:\n",
            "               precision    recall  f1-score   support\n",
            "\n",
            "           0       0.40      0.40      0.40       216\n",
            "           1       0.57      0.56      0.56       213\n",
            "           2       0.60      0.67      0.63       215\n",
            "           3       0.50      0.44      0.47       210\n",
            "           4       0.54      0.68      0.60       218\n",
            "           5       0.64      0.64      0.64       217\n",
            "           6       0.48      0.36      0.41       214\n",
            "\n",
            "    accuracy                           0.54      1503\n",
            "   macro avg       0.53      0.54      0.53      1503\n",
            "weighted avg       0.53      0.54      0.53      1503\n",
            "\n",
            "Confusion Matrix:\n",
            " [[ 87  26  21  19  21  16  26]\n",
            " [ 28 120  16   9  13  11  16]\n",
            " [  7  21 144  10  19   7   7]\n",
            " [ 31   5  16  93  24  22  19]\n",
            " [ 19   9  13  11 148  11   7]\n",
            " [ 15   7  12   9  28 139   7]\n",
            " [ 32  24  17  35  19  11  76]]\n"
          ]
        }
      ]
    },
    {
      "cell_type": "code",
      "source": [
        "#logistc regression model\n",
        "from sklearn.linear_model import LogisticRegression\n",
        "lr_model=LogisticRegression()\n",
        "\n",
        "model7=build(lr_model,X_train_cv,y_train,X_test_cv)\n",
        "\n",
        "model8=build(lr_model,X_train_rv,y_train,X_test_rv)"
      ],
      "metadata": {
        "colab": {
          "base_uri": "https://localhost:8080/"
        },
        "id": "eHK3bSh90X3V",
        "outputId": "468d5b7b-72e4-4fdf-89e1-ed00a7327368"
      },
      "execution_count": null,
      "outputs": [
        {
          "output_type": "stream",
          "name": "stderr",
          "text": [
            "/usr/local/lib/python3.10/dist-packages/sklearn/linear_model/_logistic.py:458: ConvergenceWarning: lbfgs failed to converge (status=1):\n",
            "STOP: TOTAL NO. of ITERATIONS REACHED LIMIT.\n",
            "\n",
            "Increase the number of iterations (max_iter) or scale the data as shown in:\n",
            "    https://scikit-learn.org/stable/modules/preprocessing.html\n",
            "Please also refer to the documentation for alternative solver options:\n",
            "    https://scikit-learn.org/stable/modules/linear_model.html#logistic-regression\n",
            "  n_iter_i = _check_optimize_result(\n"
          ]
        },
        {
          "output_type": "stream",
          "name": "stdout",
          "text": [
            "Classification Report:\n",
            "               precision    recall  f1-score   support\n",
            "\n",
            "           0       0.47      0.44      0.45       216\n",
            "           1       0.63      0.61      0.62       213\n",
            "           2       0.66      0.67      0.67       215\n",
            "           3       0.46      0.47      0.46       210\n",
            "           4       0.58      0.68      0.63       218\n",
            "           5       0.64      0.63      0.64       217\n",
            "           6       0.46      0.41      0.43       214\n",
            "\n",
            "    accuracy                           0.56      1503\n",
            "   macro avg       0.56      0.56      0.56      1503\n",
            "weighted avg       0.56      0.56      0.56      1503\n",
            "\n",
            "Confusion Matrix:\n",
            " [[ 95  18  13  37  21  12  20]\n",
            " [ 18 130  11  14  14   5  21]\n",
            " [ 15  13 144  10  14  10   9]\n",
            " [ 22  10  16  99  13  22  28]\n",
            " [ 17   6   9  11 149  12  14]\n",
            " [  9   8   9  16  26 137  12]\n",
            " [ 27  21  15  30  19  15  87]]\n",
            "Classification Report:\n",
            "               precision    recall  f1-score   support\n",
            "\n",
            "           0       0.44      0.45      0.45       216\n",
            "           1       0.66      0.64      0.65       213\n",
            "           2       0.67      0.70      0.69       215\n",
            "           3       0.50      0.49      0.49       210\n",
            "           4       0.58      0.69      0.63       218\n",
            "           5       0.68      0.65      0.67       217\n",
            "           6       0.48      0.41      0.44       214\n",
            "\n",
            "    accuracy                           0.58      1503\n",
            "   macro avg       0.57      0.57      0.57      1503\n",
            "weighted avg       0.57      0.58      0.57      1503\n",
            "\n",
            "Confusion Matrix:\n",
            " [[ 98  17  17  30  21  10  23]\n",
            " [ 14 136   9  17  11   5  21]\n",
            " [ 14  13 151   4  16   9   8]\n",
            " [ 31   5  13 102  18  19  22]\n",
            " [ 21   7  10   7 150  14   9]\n",
            " [ 14   7   9  12  24 141  10]\n",
            " [ 31  21  16  32  18   9  87]]\n"
          ]
        }
      ]
    },
    {
      "cell_type": "markdown",
      "source": [
        "Predicting Sentiment and emotion based on twitter data"
      ],
      "metadata": {
        "id": "l_FD6YkQDBOu"
      }
    },
    {
      "cell_type": "code",
      "source": [
        "#Loading real-time-data\n",
        "test_pd=pd.read_csv('path-to-csv/twitter_validation.csv')\n",
        "test_pd.columns=['id','brand','tag','text']\n",
        "test_pd=test_pd.drop(['brand','id','tag'],axis=1)\n",
        "test_pd.head()"
      ],
      "metadata": {
        "colab": {
          "base_uri": "https://localhost:8080/",
          "height": 206
        },
        "id": "88d27fiQDZas",
        "outputId": "d6bc1790-3c47-42f2-f15e-fa1ea9bd9fb5"
      },
      "execution_count": null,
      "outputs": [
        {
          "output_type": "execute_result",
          "data": {
            "text/plain": [
              "                                                text\n",
              "0  BBC News - Amazon boss Jeff Bezos rejects clai...\n",
              "1  @Microsoft Why do I pay for WORD when it funct...\n",
              "2  CSGO matchmaking is so full of closet hacking,...\n",
              "3  Now the President is slapping Americans in the...\n",
              "4  Hi @EAHelp I’ve had Madeleine McCann in my cel..."
            ],
            "text/html": [
              "\n",
              "  <div id=\"df-80e723a2-c5d6-4d32-8610-e4931d70a5a6\" class=\"colab-df-container\">\n",
              "    <div>\n",
              "<style scoped>\n",
              "    .dataframe tbody tr th:only-of-type {\n",
              "        vertical-align: middle;\n",
              "    }\n",
              "\n",
              "    .dataframe tbody tr th {\n",
              "        vertical-align: top;\n",
              "    }\n",
              "\n",
              "    .dataframe thead th {\n",
              "        text-align: right;\n",
              "    }\n",
              "</style>\n",
              "<table border=\"1\" class=\"dataframe\">\n",
              "  <thead>\n",
              "    <tr style=\"text-align: right;\">\n",
              "      <th></th>\n",
              "      <th>text</th>\n",
              "    </tr>\n",
              "  </thead>\n",
              "  <tbody>\n",
              "    <tr>\n",
              "      <th>0</th>\n",
              "      <td>BBC News - Amazon boss Jeff Bezos rejects clai...</td>\n",
              "    </tr>\n",
              "    <tr>\n",
              "      <th>1</th>\n",
              "      <td>@Microsoft Why do I pay for WORD when it funct...</td>\n",
              "    </tr>\n",
              "    <tr>\n",
              "      <th>2</th>\n",
              "      <td>CSGO matchmaking is so full of closet hacking,...</td>\n",
              "    </tr>\n",
              "    <tr>\n",
              "      <th>3</th>\n",
              "      <td>Now the President is slapping Americans in the...</td>\n",
              "    </tr>\n",
              "    <tr>\n",
              "      <th>4</th>\n",
              "      <td>Hi @EAHelp I’ve had Madeleine McCann in my cel...</td>\n",
              "    </tr>\n",
              "  </tbody>\n",
              "</table>\n",
              "</div>\n",
              "    <div class=\"colab-df-buttons\">\n",
              "\n",
              "  <div class=\"colab-df-container\">\n",
              "    <button class=\"colab-df-convert\" onclick=\"convertToInteractive('df-80e723a2-c5d6-4d32-8610-e4931d70a5a6')\"\n",
              "            title=\"Convert this dataframe to an interactive table.\"\n",
              "            style=\"display:none;\">\n",
              "\n",
              "  <svg xmlns=\"http://www.w3.org/2000/svg\" height=\"24px\" viewBox=\"0 -960 960 960\">\n",
              "    <path d=\"M120-120v-720h720v720H120Zm60-500h600v-160H180v160Zm220 220h160v-160H400v160Zm0 220h160v-160H400v160ZM180-400h160v-160H180v160Zm440 0h160v-160H620v160ZM180-180h160v-160H180v160Zm440 0h160v-160H620v160Z\"/>\n",
              "  </svg>\n",
              "    </button>\n",
              "\n",
              "  <style>\n",
              "    .colab-df-container {\n",
              "      display:flex;\n",
              "      gap: 12px;\n",
              "    }\n",
              "\n",
              "    .colab-df-convert {\n",
              "      background-color: #E8F0FE;\n",
              "      border: none;\n",
              "      border-radius: 50%;\n",
              "      cursor: pointer;\n",
              "      display: none;\n",
              "      fill: #1967D2;\n",
              "      height: 32px;\n",
              "      padding: 0 0 0 0;\n",
              "      width: 32px;\n",
              "    }\n",
              "\n",
              "    .colab-df-convert:hover {\n",
              "      background-color: #E2EBFA;\n",
              "      box-shadow: 0px 1px 2px rgba(60, 64, 67, 0.3), 0px 1px 3px 1px rgba(60, 64, 67, 0.15);\n",
              "      fill: #174EA6;\n",
              "    }\n",
              "\n",
              "    .colab-df-buttons div {\n",
              "      margin-bottom: 4px;\n",
              "    }\n",
              "\n",
              "    [theme=dark] .colab-df-convert {\n",
              "      background-color: #3B4455;\n",
              "      fill: #D2E3FC;\n",
              "    }\n",
              "\n",
              "    [theme=dark] .colab-df-convert:hover {\n",
              "      background-color: #434B5C;\n",
              "      box-shadow: 0px 1px 3px 1px rgba(0, 0, 0, 0.15);\n",
              "      filter: drop-shadow(0px 1px 2px rgba(0, 0, 0, 0.3));\n",
              "      fill: #FFFFFF;\n",
              "    }\n",
              "  </style>\n",
              "\n",
              "    <script>\n",
              "      const buttonEl =\n",
              "        document.querySelector('#df-80e723a2-c5d6-4d32-8610-e4931d70a5a6 button.colab-df-convert');\n",
              "      buttonEl.style.display =\n",
              "        google.colab.kernel.accessAllowed ? 'block' : 'none';\n",
              "\n",
              "      async function convertToInteractive(key) {\n",
              "        const element = document.querySelector('#df-80e723a2-c5d6-4d32-8610-e4931d70a5a6');\n",
              "        const dataTable =\n",
              "          await google.colab.kernel.invokeFunction('convertToInteractive',\n",
              "                                                    [key], {});\n",
              "        if (!dataTable) return;\n",
              "\n",
              "        const docLinkHtml = 'Like what you see? Visit the ' +\n",
              "          '<a target=\"_blank\" href=https://colab.research.google.com/notebooks/data_table.ipynb>data table notebook</a>'\n",
              "          + ' to learn more about interactive tables.';\n",
              "        element.innerHTML = '';\n",
              "        dataTable['output_type'] = 'display_data';\n",
              "        await google.colab.output.renderOutput(dataTable, element);\n",
              "        const docLink = document.createElement('div');\n",
              "        docLink.innerHTML = docLinkHtml;\n",
              "        element.appendChild(docLink);\n",
              "      }\n",
              "    </script>\n",
              "  </div>\n",
              "\n",
              "\n",
              "<div id=\"df-4630b82e-5a67-4991-ba81-57f8d339deec\">\n",
              "  <button class=\"colab-df-quickchart\" onclick=\"quickchart('df-4630b82e-5a67-4991-ba81-57f8d339deec')\"\n",
              "            title=\"Suggest charts\"\n",
              "            style=\"display:none;\">\n",
              "\n",
              "<svg xmlns=\"http://www.w3.org/2000/svg\" height=\"24px\"viewBox=\"0 0 24 24\"\n",
              "     width=\"24px\">\n",
              "    <g>\n",
              "        <path d=\"M19 3H5c-1.1 0-2 .9-2 2v14c0 1.1.9 2 2 2h14c1.1 0 2-.9 2-2V5c0-1.1-.9-2-2-2zM9 17H7v-7h2v7zm4 0h-2V7h2v10zm4 0h-2v-4h2v4z\"/>\n",
              "    </g>\n",
              "</svg>\n",
              "  </button>\n",
              "\n",
              "<style>\n",
              "  .colab-df-quickchart {\n",
              "      --bg-color: #E8F0FE;\n",
              "      --fill-color: #1967D2;\n",
              "      --hover-bg-color: #E2EBFA;\n",
              "      --hover-fill-color: #174EA6;\n",
              "      --disabled-fill-color: #AAA;\n",
              "      --disabled-bg-color: #DDD;\n",
              "  }\n",
              "\n",
              "  [theme=dark] .colab-df-quickchart {\n",
              "      --bg-color: #3B4455;\n",
              "      --fill-color: #D2E3FC;\n",
              "      --hover-bg-color: #434B5C;\n",
              "      --hover-fill-color: #FFFFFF;\n",
              "      --disabled-bg-color: #3B4455;\n",
              "      --disabled-fill-color: #666;\n",
              "  }\n",
              "\n",
              "  .colab-df-quickchart {\n",
              "    background-color: var(--bg-color);\n",
              "    border: none;\n",
              "    border-radius: 50%;\n",
              "    cursor: pointer;\n",
              "    display: none;\n",
              "    fill: var(--fill-color);\n",
              "    height: 32px;\n",
              "    padding: 0;\n",
              "    width: 32px;\n",
              "  }\n",
              "\n",
              "  .colab-df-quickchart:hover {\n",
              "    background-color: var(--hover-bg-color);\n",
              "    box-shadow: 0 1px 2px rgba(60, 64, 67, 0.3), 0 1px 3px 1px rgba(60, 64, 67, 0.15);\n",
              "    fill: var(--button-hover-fill-color);\n",
              "  }\n",
              "\n",
              "  .colab-df-quickchart-complete:disabled,\n",
              "  .colab-df-quickchart-complete:disabled:hover {\n",
              "    background-color: var(--disabled-bg-color);\n",
              "    fill: var(--disabled-fill-color);\n",
              "    box-shadow: none;\n",
              "  }\n",
              "\n",
              "  .colab-df-spinner {\n",
              "    border: 2px solid var(--fill-color);\n",
              "    border-color: transparent;\n",
              "    border-bottom-color: var(--fill-color);\n",
              "    animation:\n",
              "      spin 1s steps(1) infinite;\n",
              "  }\n",
              "\n",
              "  @keyframes spin {\n",
              "    0% {\n",
              "      border-color: transparent;\n",
              "      border-bottom-color: var(--fill-color);\n",
              "      border-left-color: var(--fill-color);\n",
              "    }\n",
              "    20% {\n",
              "      border-color: transparent;\n",
              "      border-left-color: var(--fill-color);\n",
              "      border-top-color: var(--fill-color);\n",
              "    }\n",
              "    30% {\n",
              "      border-color: transparent;\n",
              "      border-left-color: var(--fill-color);\n",
              "      border-top-color: var(--fill-color);\n",
              "      border-right-color: var(--fill-color);\n",
              "    }\n",
              "    40% {\n",
              "      border-color: transparent;\n",
              "      border-right-color: var(--fill-color);\n",
              "      border-top-color: var(--fill-color);\n",
              "    }\n",
              "    60% {\n",
              "      border-color: transparent;\n",
              "      border-right-color: var(--fill-color);\n",
              "    }\n",
              "    80% {\n",
              "      border-color: transparent;\n",
              "      border-right-color: var(--fill-color);\n",
              "      border-bottom-color: var(--fill-color);\n",
              "    }\n",
              "    90% {\n",
              "      border-color: transparent;\n",
              "      border-bottom-color: var(--fill-color);\n",
              "    }\n",
              "  }\n",
              "</style>\n",
              "\n",
              "  <script>\n",
              "    async function quickchart(key) {\n",
              "      const quickchartButtonEl =\n",
              "        document.querySelector('#' + key + ' button');\n",
              "      quickchartButtonEl.disabled = true;  // To prevent multiple clicks.\n",
              "      quickchartButtonEl.classList.add('colab-df-spinner');\n",
              "      try {\n",
              "        const charts = await google.colab.kernel.invokeFunction(\n",
              "            'suggestCharts', [key], {});\n",
              "      } catch (error) {\n",
              "        console.error('Error during call to suggestCharts:', error);\n",
              "      }\n",
              "      quickchartButtonEl.classList.remove('colab-df-spinner');\n",
              "      quickchartButtonEl.classList.add('colab-df-quickchart-complete');\n",
              "    }\n",
              "    (() => {\n",
              "      let quickchartButtonEl =\n",
              "        document.querySelector('#df-4630b82e-5a67-4991-ba81-57f8d339deec button');\n",
              "      quickchartButtonEl.style.display =\n",
              "        google.colab.kernel.accessAllowed ? 'block' : 'none';\n",
              "    })();\n",
              "  </script>\n",
              "</div>\n",
              "\n",
              "    </div>\n",
              "  </div>\n"
            ],
            "application/vnd.google.colaboratory.intrinsic+json": {
              "type": "dataframe",
              "variable_name": "test_pd",
              "summary": "{\n  \"name\": \"test_pd\",\n  \"rows\": 999,\n  \"fields\": [\n    {\n      \"column\": \"text\",\n      \"properties\": {\n        \"dtype\": \"string\",\n        \"num_unique_values\": 998,\n        \"samples\": [\n          \"Red Dead Redemption 2 - Xbox - jogando no Game Pass \\n\\nm.mixer.com/valtinhoroberto\\n\\n(#game)\",\n          \"@Xbox @majornelson I\\u2019d love to bring home a new Xbox Series X, but they are all sold out. So the emails are VERY misleading. Just sayin.\",\n          \"Team JerseyBoys is now also represented on Twitch.\\n\\nWelcome @chucky_CSGO  \\n\\nOur chef of confidence, will offer you content from various games like World Of Warcraft, CS:GO or Valorant on Twitch. \\n\\nClick here for the Twitch Channel: tinyurl.com/y5gm9h74\\n\\n#jerseyboys #twitch https://t.co/OwimJcs4uJ\"\n        ],\n        \"semantic_type\": \"\",\n        \"description\": \"\"\n      }\n    }\n  ]\n}"
            }
          },
          "metadata": {},
          "execution_count": 74
        }
      ]
    },
    {
      "cell_type": "markdown",
      "source": [
        "Preprocessing realtime twitter data"
      ],
      "metadata": {
        "id": "KqkrglWjDlz1"
      }
    },
    {
      "cell_type": "code",
      "source": [
        "test_pd['text']=test_pd['text'].apply(lambda x: \" \".join(x.lower() for x in x.split()))\n",
        "stop=stopwords.words('english')\n",
        "test_pd['text']=test_pd['text'].apply(lambda x: \" \".join(x for x in x.split() if x not in stop))\n",
        "def clean_text(text):\n",
        "    # Remove mentions\n",
        "    text=re.sub(r'@\\w+','',text)\n",
        "    text=re.sub(r'a-zA-z','',text)\n",
        "    text=' '.join(text.split())\n",
        "    return text\n",
        "\n",
        "# Apply the function to the 'text' column\n",
        "test_pd['text']=test_pd['text'].apply(clean_text)\n",
        "st=SnowballStemmer(language='english')\n",
        "data['text']=data['text'].apply(lambda x: \" \".join([st.stem(word) for word in x.split()]))\n",
        "data['text'].head()\n",
        "print(test_pd['text'].head())"
      ],
      "metadata": {
        "colab": {
          "base_uri": "https://localhost:8080/"
        },
        "id": "s6LnSPZUEYTn",
        "outputId": "a881b705-a058-4d36-b560-dcd66852a7cd"
      },
      "execution_count": null,
      "outputs": [
        {
          "output_type": "stream",
          "name": "stdout",
          "text": [
            "0    bbc news - amazon boss jeff bezos rejects clai...\n",
            "1              pay word functions poorly chromebook? 🙄\n",
            "2    csgo matchmaking full closet hacking, truly aw...\n",
            "3    president slapping americans face really commi...\n",
            "4    hi i’ve madeleine mccann cellar past 13 years ...\n",
            "Name: text, dtype: object\n"
          ]
        }
      ]
    },
    {
      "cell_type": "code",
      "source": [
        "predict_cv=cv.transform(test_pd['text'])"
      ],
      "metadata": {
        "id": "VVi9O5yZ6WX-"
      },
      "execution_count": null,
      "outputs": []
    },
    {
      "cell_type": "code",
      "source": [
        "def make_prediction(model,predict_cv):\n",
        "  test_pd['emotion']=model.predict(predict_cv)\n",
        "  print(test_pd['emotion'].value_counts().reset_index())\n",
        "  test_pd['sentiment']=test_pd['text'].apply(lambda x: TextBlob(x).sentiment.polarity)\n",
        "  print(test_pd['sentiment'].value_counts())\n",
        "  print(test_pd.head())\n",
        "\n",
        "def visualize_sentiment(Sentiment_df):\n",
        "  # Plotting Sentiment Analysis\n",
        "  fig,ax=plt.subplots()\n",
        "  ax.pie(Sentiment_df['Count'],labels=Sentiment_df['Sentiment'],autopct='%1.1f%%',startangle=90)\n",
        "  ax.axis('equal')\n",
        "  plt.title('Sentiment Analysis')\n",
        "  plt.show()\n",
        "\n",
        "def visualize_emotion(Emotion_df):\n",
        "  # Plotting Emotion Analysis\n",
        "  fig,ax=plt.subplots()\n",
        "  ax.pie(Emotion_df['Count'],labels=Emotion_df['Emotion'],autopct='%1.1f%%',startangle=90,colors=['red','green','purple','orange','blue','yellow','pink'],pctdistance=0.85)\n",
        "  ax.axis('equal')\n",
        "  plt.title('Emotion Analysis')\n",
        "  plt.show()\n",
        "\n",
        "def calculate_count_percentage():\n",
        "  def filter_sentiment(pol):\n",
        "      pol=float(pol)\n",
        "      if pol > 0:\n",
        "        return 'Positive'\n",
        "      elif pol < 0:\n",
        "          return 'Negative'\n",
        "      return 'Neutral'\n",
        "  def filter_emotion(x):\n",
        "    return label_dict[x]\n",
        "  test_pd['sentiment']=test_pd['sentiment'].apply(filter_sentiment)\n",
        "  test_pd['emotion']=test_pd['emotion'].apply(filter_emotion)\n",
        "  # Prepare Sentiment Data\n",
        "  Sentiment_df=pd.DataFrame(test_pd.sentiment.value_counts().reset_index())\n",
        "  Sentiment_df.columns=['Sentiment','Count']\n",
        "  Sentiment_df['Percentage']=100 * Sentiment_df['Count'] / Sentiment_df['Count'].sum()\n",
        "\n",
        "  # Prepare Emotion Data\n",
        "  Emotion_df=pd.DataFrame(test_pd.emotion.value_counts().reset_index())\n",
        "  Emotion_df.columns=['Emotion','Count']\n",
        "  Emotion_df['Percentage']=100 * Emotion_df['Count'] / Emotion_df['Count'].sum()\n",
        "  test_pd.head()\n",
        "  return Sentiment_df,Emotion_df"
      ],
      "metadata": {
        "id": "g20Ma1dxIynB"
      },
      "execution_count": null,
      "outputs": []
    },
    {
      "cell_type": "code",
      "source": [
        "#prediction using naive bayes and visualize\n",
        "make_prediction(model1,predict_cv)\n",
        "print(label_dict)\n",
        "Sentiment_df,Emotion_df=calculate_count_percentage()\n",
        "visualize_sentiment(Sentiment_df)\n",
        "visualize_emotion(Emotion_df)"
      ],
      "metadata": {
        "colab": {
          "base_uri": "https://localhost:8080/",
          "height": 1000
        },
        "id": "uWP97Us07Qzj",
        "outputId": "2f9fa7aa-33b7-4d1a-b663-377ba3a60cb9"
      },
      "execution_count": null,
      "outputs": [
        {
          "output_type": "stream",
          "name": "stdout",
          "text": [
            "   emotion  count\n",
            "0        4    258\n",
            "1        0    155\n",
            "2        2    152\n",
            "3        1    137\n",
            "4        3    128\n",
            "5        5    112\n",
            "6        6     57\n",
            "sentiment\n",
            " 0.000000    208\n",
            " 0.500000     35\n",
            "-0.400000     28\n",
            "-0.500000     22\n",
            " 1.000000     19\n",
            "            ... \n",
            " 0.358333      1\n",
            "-0.133333      1\n",
            "-0.179464      1\n",
            "-0.183333      1\n",
            " 0.025000      1\n",
            "Name: count, Length: 367, dtype: int64\n",
            "                                                text  emotion  sentiment\n",
            "0  bbc news - amazon boss jeff bezos rejects clai...        5    0.00000\n",
            "1            pay word functions poorly chromebook? 🙄        6   -0.40000\n",
            "2  csgo matchmaking full closet hacking, truly aw...        4   -0.35000\n",
            "3  president slapping americans face really commi...        1    0.25000\n",
            "4  hi i’ve madeleine mccann cellar past 13 years ...        3   -0.21875\n",
            "{4: 'joy', 5: 'sadness', 0: 'anger', 2: 'fear', 6: 'shame', 1: 'disguist', 3: 'guilt'}\n"
          ]
        },
        {
          "output_type": "display_data",
          "data": {
            "text/plain": [
              "<Figure size 640x480 with 1 Axes>"
            ],
            "image/png": "[encoded data removed]"
          },
          "metadata": {}
        },
        {
          "output_type": "display_data",
          "data": {
            "text/plain": [
              "<Figure size 640x480 with 1 Axes>"
            ],
            "image/png": "[encoded data removed]"
          },
          "metadata": {}
        }
      ]
    },
    {
      "cell_type": "code",
      "source": [
        "#prediction for algo SVM and visualize\n",
        "make_prediction(model3,predict_cv)\n",
        "print(label_dict)\n",
        "Sentiment_df,Emotion_df=calculate_count_percentage()\n",
        "visualize_sentiment(Sentiment_df)\n",
        "visualize_emotion(Emotion_df)"
      ],
      "metadata": {
        "colab": {
          "base_uri": "https://localhost:8080/",
          "height": 1000
        },
        "id": "LJ1jugJOKswA",
        "outputId": "70f056ba-9f98-4309-83cb-525c12bf1e89"
      },
      "execution_count": null,
      "outputs": [
        {
          "output_type": "stream",
          "name": "stdout",
          "text": [
            "   emotion  count\n",
            "0        0    828\n",
            "1        1     86\n",
            "2        4     39\n",
            "3        2     18\n",
            "4        3     12\n",
            "5        6     11\n",
            "6        5      5\n",
            "sentiment\n",
            " 0.000000    208\n",
            " 0.500000     35\n",
            "-0.400000     28\n",
            "-0.500000     22\n",
            " 1.000000     19\n",
            "            ... \n",
            " 0.358333      1\n",
            "-0.133333      1\n",
            "-0.179464      1\n",
            "-0.183333      1\n",
            " 0.025000      1\n",
            "Name: count, Length: 367, dtype: int64\n",
            "                                                text  emotion  sentiment\n",
            "0  bbc news - amazon boss jeff bezos rejects clai...        0    0.00000\n",
            "1            pay word functions poorly chromebook? 🙄        0   -0.40000\n",
            "2  csgo matchmaking full closet hacking, truly aw...        0   -0.35000\n",
            "3  president slapping americans face really commi...        0    0.25000\n",
            "4  hi i’ve madeleine mccann cellar past 13 years ...        0   -0.21875\n",
            "{4: 'joy', 5: 'sadness', 0: 'anger', 2: 'fear', 6: 'shame', 1: 'disguist', 3: 'guilt'}\n"
          ]
        },
        {
          "output_type": "display_data",
          "data": {
            "text/plain": [
              "<Figure size 640x480 with 1 Axes>"
            ],
            "image/png": "[encoded data removed]"
          },
          "metadata": {}
        },
        {
          "output_type": "display_data",
          "data": {
            "text/plain": [
              "<Figure size 640x480 with 1 Axes>"
            ],
            "image/png": "[encoded data removed]"
          },
          "metadata": {}
        }
      ]
    },
    {
      "cell_type": "code",
      "source": [
        "#prediction for algo RF and visualze\n",
        "make_prediction(model5,predict_cv)\n",
        "print(label_dict)\n",
        "Sentiment_df,Emotion_df=calculate_count_percentage()\n",
        "visualize_sentiment(Sentiment_df)\n",
        "visualize_emotion(Emotion_df)"
      ],
      "metadata": {
        "colab": {
          "base_uri": "https://localhost:8080/",
          "height": 1000
        },
        "id": "ujMjZpEdK7_W",
        "outputId": "240c5ad2-3f7a-4037-ca3c-3c8d8334c88b"
      },
      "execution_count": null,
      "outputs": [
        {
          "output_type": "stream",
          "name": "stdout",
          "text": [
            "   emotion  count\n",
            "0        0    243\n",
            "1        4    233\n",
            "2        5    133\n",
            "3        1    129\n",
            "4        3    123\n",
            "5        2     81\n",
            "6        6     57\n",
            "sentiment\n",
            " 0.000000    208\n",
            " 0.500000     35\n",
            "-0.400000     28\n",
            "-0.500000     22\n",
            " 1.000000     19\n",
            "            ... \n",
            " 0.358333      1\n",
            "-0.133333      1\n",
            "-0.179464      1\n",
            "-0.183333      1\n",
            " 0.025000      1\n",
            "Name: count, Length: 367, dtype: int64\n",
            "                                                text  emotion  sentiment\n",
            "0  bbc news - amazon boss jeff bezos rejects clai...        5    0.00000\n",
            "1            pay word functions poorly chromebook? 🙄        6   -0.40000\n",
            "2  csgo matchmaking full closet hacking, truly aw...        1   -0.35000\n",
            "3  president slapping americans face really commi...        6    0.25000\n",
            "4  hi i’ve madeleine mccann cellar past 13 years ...        3   -0.21875\n",
            "{4: 'joy', 5: 'sadness', 0: 'anger', 2: 'fear', 6: 'shame', 1: 'disguist', 3: 'guilt'}\n"
          ]
        },
        {
          "output_type": "display_data",
          "data": {
            "text/plain": [
              "<Figure size 640x480 with 1 Axes>"
            ],
            "image/png": "[encoded data removed]"
          },
          "metadata": {}
        },
        {
          "output_type": "display_data",
          "data": {
            "text/plain": [
              "<Figure size 640x480 with 1 Axes>"
            ],
            "image/png": "[encoded data removed]"
          },
          "metadata": {}
        }
      ]
    },
    {
      "cell_type": "code",
      "source": [
        "#prediction for algo LR and visualize\n",
        "make_prediction(model7,predict_cv)\n",
        "print(label_dict)\n",
        "Sentiment_df,Emotion_df=calculate_count_percentage()\n",
        "visualize_sentiment(Sentiment_df)\n",
        "visualize_emotion(Emotion_df)"
      ],
      "metadata": {
        "colab": {
          "base_uri": "https://localhost:8080/",
          "height": 1000
        },
        "id": "jwRBL83KLSJy",
        "outputId": "52227a3c-3560-45b9-926c-8bfa5bb386e2"
      },
      "execution_count": null,
      "outputs": [
        {
          "output_type": "stream",
          "name": "stdout",
          "text": [
            "   emotion  count\n",
            "0        4    233\n",
            "1        1    189\n",
            "2        0    162\n",
            "3        2    146\n",
            "4        3    123\n",
            "5        5     95\n",
            "6        6     51\n",
            "sentiment\n",
            " 0.000000    208\n",
            " 0.500000     35\n",
            "-0.400000     28\n",
            "-0.500000     22\n",
            " 1.000000     19\n",
            "            ... \n",
            " 0.358333      1\n",
            "-0.133333      1\n",
            "-0.179464      1\n",
            "-0.183333      1\n",
            " 0.025000      1\n",
            "Name: count, Length: 367, dtype: int64\n",
            "                                                text  emotion  sentiment\n",
            "0  bbc news - amazon boss jeff bezos rejects clai...        5    0.00000\n",
            "1            pay word functions poorly chromebook? 🙄        0   -0.40000\n",
            "2  csgo matchmaking full closet hacking, truly aw...        4   -0.35000\n",
            "3  president slapping americans face really commi...        1    0.25000\n",
            "4  hi i’ve madeleine mccann cellar past 13 years ...        3   -0.21875\n",
            "{4: 'joy', 5: 'sadness', 0: 'anger', 2: 'fear', 6: 'shame', 1: 'disguist', 3: 'guilt'}\n"
          ]
        },
        {
          "output_type": "display_data",
          "data": {
            "text/plain": [
              "<Figure size 640x480 with 1 Axes>"
            ],
            "image/png": "[encoded data removed]"
          },
          "metadata": {}
        },
        {
          "output_type": "display_data",
          "data": {
            "text/plain": [
              "<Figure size 640x480 with 1 Axes>"
            ],
            "image/png": "[encoded data removed]"
          },
          "metadata": {}
        }
      ]
    }
  ],
  "metadata": {
    "accelerator": "TPU",
    "colab": {
      "gpuType": "V28",
      "provenance": [],
      "mount_file_id": "103S44-kav_Rhay4an6m5tE-0CsQjF_FU",
      "authorship_tag": "ABX9TyOjAPA8ElikQHL2Il73cJ1q",
      "include_colab_link": true
    },
    "kernelspec": {
      "display_name": "Python 3",
      "name": "python3"
    },
    "language_info": {
      "name": "python"
    }
  },
  "nbformat": 4,
  "nbformat_minor": 0
}